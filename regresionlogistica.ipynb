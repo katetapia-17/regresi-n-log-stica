{
 "cells": [
  {
   "cell_type": "code",
   "execution_count": 103,
   "id": "7c2a58df-dc82-4573-aa74-d644e38be47d",
   "metadata": {},
   "outputs": [],
   "source": [
    "import pandas as pd\n",
    "import numpy as np\n",
    "import seaborn as sns\n",
    "import matplotlib.pyplot as plt\n",
    "\n",
    "from sklearn import metrics\n",
    "from sklearn.model_selection import train_test_split\n",
    "from sklearn.linear_model import LogisticRegression\n",
    "from sklearn.metrics import classification_report, confusion_matrix"
   ]
  },
  {
   "cell_type": "code",
   "execution_count": 20,
   "id": "0bc6b3dc-da72-4078-8257-dbe20f03844b",
   "metadata": {},
   "outputs": [],
   "source": [
    "Datos=pd.read_csv('heart_cleveland_upload.csv')"
   ]
  },
  {
   "cell_type": "code",
   "execution_count": 26,
   "id": "8f8cd1b6-358e-415d-bdad-3b4fce105d0a",
   "metadata": {},
   "outputs": [
    {
     "data": {
      "text/html": [
       "<div>\n",
       "<style scoped>\n",
       "    .dataframe tbody tr th:only-of-type {\n",
       "        vertical-align: middle;\n",
       "    }\n",
       "\n",
       "    .dataframe tbody tr th {\n",
       "        vertical-align: top;\n",
       "    }\n",
       "\n",
       "    .dataframe thead th {\n",
       "        text-align: right;\n",
       "    }\n",
       "</style>\n",
       "<table border=\"1\" class=\"dataframe\">\n",
       "  <thead>\n",
       "    <tr style=\"text-align: right;\">\n",
       "      <th></th>\n",
       "      <th>age</th>\n",
       "      <th>sex</th>\n",
       "      <th>cp</th>\n",
       "      <th>trestbps</th>\n",
       "      <th>chol</th>\n",
       "      <th>fbs</th>\n",
       "      <th>restecg</th>\n",
       "      <th>thalach</th>\n",
       "      <th>exang</th>\n",
       "      <th>oldpeak</th>\n",
       "      <th>slope</th>\n",
       "      <th>ca</th>\n",
       "      <th>thal</th>\n",
       "      <th>condition</th>\n",
       "    </tr>\n",
       "  </thead>\n",
       "  <tbody>\n",
       "    <tr>\n",
       "      <th>0</th>\n",
       "      <td>69</td>\n",
       "      <td>1</td>\n",
       "      <td>0</td>\n",
       "      <td>160</td>\n",
       "      <td>234</td>\n",
       "      <td>1</td>\n",
       "      <td>2</td>\n",
       "      <td>131</td>\n",
       "      <td>0</td>\n",
       "      <td>0.1</td>\n",
       "      <td>1</td>\n",
       "      <td>1</td>\n",
       "      <td>0</td>\n",
       "      <td>0</td>\n",
       "    </tr>\n",
       "    <tr>\n",
       "      <th>1</th>\n",
       "      <td>69</td>\n",
       "      <td>0</td>\n",
       "      <td>0</td>\n",
       "      <td>140</td>\n",
       "      <td>239</td>\n",
       "      <td>0</td>\n",
       "      <td>0</td>\n",
       "      <td>151</td>\n",
       "      <td>0</td>\n",
       "      <td>1.8</td>\n",
       "      <td>0</td>\n",
       "      <td>2</td>\n",
       "      <td>0</td>\n",
       "      <td>0</td>\n",
       "    </tr>\n",
       "    <tr>\n",
       "      <th>2</th>\n",
       "      <td>66</td>\n",
       "      <td>0</td>\n",
       "      <td>0</td>\n",
       "      <td>150</td>\n",
       "      <td>226</td>\n",
       "      <td>0</td>\n",
       "      <td>0</td>\n",
       "      <td>114</td>\n",
       "      <td>0</td>\n",
       "      <td>2.6</td>\n",
       "      <td>2</td>\n",
       "      <td>0</td>\n",
       "      <td>0</td>\n",
       "      <td>0</td>\n",
       "    </tr>\n",
       "    <tr>\n",
       "      <th>3</th>\n",
       "      <td>65</td>\n",
       "      <td>1</td>\n",
       "      <td>0</td>\n",
       "      <td>138</td>\n",
       "      <td>282</td>\n",
       "      <td>1</td>\n",
       "      <td>2</td>\n",
       "      <td>174</td>\n",
       "      <td>0</td>\n",
       "      <td>1.4</td>\n",
       "      <td>1</td>\n",
       "      <td>1</td>\n",
       "      <td>0</td>\n",
       "      <td>1</td>\n",
       "    </tr>\n",
       "    <tr>\n",
       "      <th>4</th>\n",
       "      <td>64</td>\n",
       "      <td>1</td>\n",
       "      <td>0</td>\n",
       "      <td>110</td>\n",
       "      <td>211</td>\n",
       "      <td>0</td>\n",
       "      <td>2</td>\n",
       "      <td>144</td>\n",
       "      <td>1</td>\n",
       "      <td>1.8</td>\n",
       "      <td>1</td>\n",
       "      <td>0</td>\n",
       "      <td>0</td>\n",
       "      <td>0</td>\n",
       "    </tr>\n",
       "    <tr>\n",
       "      <th>5</th>\n",
       "      <td>64</td>\n",
       "      <td>1</td>\n",
       "      <td>0</td>\n",
       "      <td>170</td>\n",
       "      <td>227</td>\n",
       "      <td>0</td>\n",
       "      <td>2</td>\n",
       "      <td>155</td>\n",
       "      <td>0</td>\n",
       "      <td>0.6</td>\n",
       "      <td>1</td>\n",
       "      <td>0</td>\n",
       "      <td>2</td>\n",
       "      <td>0</td>\n",
       "    </tr>\n",
       "    <tr>\n",
       "      <th>6</th>\n",
       "      <td>63</td>\n",
       "      <td>1</td>\n",
       "      <td>0</td>\n",
       "      <td>145</td>\n",
       "      <td>233</td>\n",
       "      <td>1</td>\n",
       "      <td>2</td>\n",
       "      <td>150</td>\n",
       "      <td>0</td>\n",
       "      <td>2.3</td>\n",
       "      <td>2</td>\n",
       "      <td>0</td>\n",
       "      <td>1</td>\n",
       "      <td>0</td>\n",
       "    </tr>\n",
       "    <tr>\n",
       "      <th>7</th>\n",
       "      <td>61</td>\n",
       "      <td>1</td>\n",
       "      <td>0</td>\n",
       "      <td>134</td>\n",
       "      <td>234</td>\n",
       "      <td>0</td>\n",
       "      <td>0</td>\n",
       "      <td>145</td>\n",
       "      <td>0</td>\n",
       "      <td>2.6</td>\n",
       "      <td>1</td>\n",
       "      <td>2</td>\n",
       "      <td>0</td>\n",
       "      <td>1</td>\n",
       "    </tr>\n",
       "    <tr>\n",
       "      <th>8</th>\n",
       "      <td>60</td>\n",
       "      <td>0</td>\n",
       "      <td>0</td>\n",
       "      <td>150</td>\n",
       "      <td>240</td>\n",
       "      <td>0</td>\n",
       "      <td>0</td>\n",
       "      <td>171</td>\n",
       "      <td>0</td>\n",
       "      <td>0.9</td>\n",
       "      <td>0</td>\n",
       "      <td>0</td>\n",
       "      <td>0</td>\n",
       "      <td>0</td>\n",
       "    </tr>\n",
       "    <tr>\n",
       "      <th>9</th>\n",
       "      <td>59</td>\n",
       "      <td>1</td>\n",
       "      <td>0</td>\n",
       "      <td>178</td>\n",
       "      <td>270</td>\n",
       "      <td>0</td>\n",
       "      <td>2</td>\n",
       "      <td>145</td>\n",
       "      <td>0</td>\n",
       "      <td>4.2</td>\n",
       "      <td>2</td>\n",
       "      <td>0</td>\n",
       "      <td>2</td>\n",
       "      <td>0</td>\n",
       "    </tr>\n",
       "    <tr>\n",
       "      <th>10</th>\n",
       "      <td>59</td>\n",
       "      <td>1</td>\n",
       "      <td>0</td>\n",
       "      <td>170</td>\n",
       "      <td>288</td>\n",
       "      <td>0</td>\n",
       "      <td>2</td>\n",
       "      <td>159</td>\n",
       "      <td>0</td>\n",
       "      <td>0.2</td>\n",
       "      <td>1</td>\n",
       "      <td>0</td>\n",
       "      <td>2</td>\n",
       "      <td>1</td>\n",
       "    </tr>\n",
       "    <tr>\n",
       "      <th>11</th>\n",
       "      <td>59</td>\n",
       "      <td>1</td>\n",
       "      <td>0</td>\n",
       "      <td>160</td>\n",
       "      <td>273</td>\n",
       "      <td>0</td>\n",
       "      <td>2</td>\n",
       "      <td>125</td>\n",
       "      <td>0</td>\n",
       "      <td>0.0</td>\n",
       "      <td>0</td>\n",
       "      <td>0</td>\n",
       "      <td>0</td>\n",
       "      <td>1</td>\n",
       "    </tr>\n",
       "    <tr>\n",
       "      <th>12</th>\n",
       "      <td>59</td>\n",
       "      <td>1</td>\n",
       "      <td>0</td>\n",
       "      <td>134</td>\n",
       "      <td>204</td>\n",
       "      <td>0</td>\n",
       "      <td>0</td>\n",
       "      <td>162</td>\n",
       "      <td>0</td>\n",
       "      <td>0.8</td>\n",
       "      <td>0</td>\n",
       "      <td>2</td>\n",
       "      <td>0</td>\n",
       "      <td>1</td>\n",
       "    </tr>\n",
       "    <tr>\n",
       "      <th>13</th>\n",
       "      <td>58</td>\n",
       "      <td>0</td>\n",
       "      <td>0</td>\n",
       "      <td>150</td>\n",
       "      <td>283</td>\n",
       "      <td>1</td>\n",
       "      <td>2</td>\n",
       "      <td>162</td>\n",
       "      <td>0</td>\n",
       "      <td>1.0</td>\n",
       "      <td>0</td>\n",
       "      <td>0</td>\n",
       "      <td>0</td>\n",
       "      <td>0</td>\n",
       "    </tr>\n",
       "    <tr>\n",
       "      <th>14</th>\n",
       "      <td>56</td>\n",
       "      <td>1</td>\n",
       "      <td>0</td>\n",
       "      <td>120</td>\n",
       "      <td>193</td>\n",
       "      <td>0</td>\n",
       "      <td>2</td>\n",
       "      <td>162</td>\n",
       "      <td>0</td>\n",
       "      <td>1.9</td>\n",
       "      <td>1</td>\n",
       "      <td>0</td>\n",
       "      <td>2</td>\n",
       "      <td>0</td>\n",
       "    </tr>\n",
       "    <tr>\n",
       "      <th>15</th>\n",
       "      <td>52</td>\n",
       "      <td>1</td>\n",
       "      <td>0</td>\n",
       "      <td>118</td>\n",
       "      <td>186</td>\n",
       "      <td>0</td>\n",
       "      <td>2</td>\n",
       "      <td>190</td>\n",
       "      <td>0</td>\n",
       "      <td>0.0</td>\n",
       "      <td>1</td>\n",
       "      <td>0</td>\n",
       "      <td>1</td>\n",
       "      <td>0</td>\n",
       "    </tr>\n",
       "    <tr>\n",
       "      <th>16</th>\n",
       "      <td>52</td>\n",
       "      <td>1</td>\n",
       "      <td>0</td>\n",
       "      <td>152</td>\n",
       "      <td>298</td>\n",
       "      <td>1</td>\n",
       "      <td>0</td>\n",
       "      <td>178</td>\n",
       "      <td>0</td>\n",
       "      <td>1.2</td>\n",
       "      <td>1</td>\n",
       "      <td>0</td>\n",
       "      <td>2</td>\n",
       "      <td>0</td>\n",
       "    </tr>\n",
       "    <tr>\n",
       "      <th>17</th>\n",
       "      <td>51</td>\n",
       "      <td>1</td>\n",
       "      <td>0</td>\n",
       "      <td>125</td>\n",
       "      <td>213</td>\n",
       "      <td>0</td>\n",
       "      <td>2</td>\n",
       "      <td>125</td>\n",
       "      <td>1</td>\n",
       "      <td>1.4</td>\n",
       "      <td>0</td>\n",
       "      <td>1</td>\n",
       "      <td>0</td>\n",
       "      <td>0</td>\n",
       "    </tr>\n",
       "    <tr>\n",
       "      <th>18</th>\n",
       "      <td>45</td>\n",
       "      <td>1</td>\n",
       "      <td>0</td>\n",
       "      <td>110</td>\n",
       "      <td>264</td>\n",
       "      <td>0</td>\n",
       "      <td>0</td>\n",
       "      <td>132</td>\n",
       "      <td>0</td>\n",
       "      <td>1.2</td>\n",
       "      <td>1</td>\n",
       "      <td>0</td>\n",
       "      <td>2</td>\n",
       "      <td>1</td>\n",
       "    </tr>\n",
       "    <tr>\n",
       "      <th>19</th>\n",
       "      <td>42</td>\n",
       "      <td>1</td>\n",
       "      <td>0</td>\n",
       "      <td>148</td>\n",
       "      <td>244</td>\n",
       "      <td>0</td>\n",
       "      <td>2</td>\n",
       "      <td>178</td>\n",
       "      <td>0</td>\n",
       "      <td>0.8</td>\n",
       "      <td>0</td>\n",
       "      <td>2</td>\n",
       "      <td>0</td>\n",
       "      <td>0</td>\n",
       "    </tr>\n",
       "    <tr>\n",
       "      <th>20</th>\n",
       "      <td>40</td>\n",
       "      <td>1</td>\n",
       "      <td>0</td>\n",
       "      <td>140</td>\n",
       "      <td>199</td>\n",
       "      <td>0</td>\n",
       "      <td>0</td>\n",
       "      <td>178</td>\n",
       "      <td>1</td>\n",
       "      <td>1.4</td>\n",
       "      <td>0</td>\n",
       "      <td>0</td>\n",
       "      <td>2</td>\n",
       "      <td>0</td>\n",
       "    </tr>\n",
       "    <tr>\n",
       "      <th>21</th>\n",
       "      <td>38</td>\n",
       "      <td>1</td>\n",
       "      <td>0</td>\n",
       "      <td>120</td>\n",
       "      <td>231</td>\n",
       "      <td>0</td>\n",
       "      <td>0</td>\n",
       "      <td>182</td>\n",
       "      <td>1</td>\n",
       "      <td>3.8</td>\n",
       "      <td>1</td>\n",
       "      <td>0</td>\n",
       "      <td>2</td>\n",
       "      <td>1</td>\n",
       "    </tr>\n",
       "    <tr>\n",
       "      <th>22</th>\n",
       "      <td>34</td>\n",
       "      <td>1</td>\n",
       "      <td>0</td>\n",
       "      <td>118</td>\n",
       "      <td>182</td>\n",
       "      <td>0</td>\n",
       "      <td>2</td>\n",
       "      <td>174</td>\n",
       "      <td>0</td>\n",
       "      <td>0.0</td>\n",
       "      <td>0</td>\n",
       "      <td>0</td>\n",
       "      <td>0</td>\n",
       "      <td>0</td>\n",
       "    </tr>\n",
       "    <tr>\n",
       "      <th>23</th>\n",
       "      <td>74</td>\n",
       "      <td>0</td>\n",
       "      <td>1</td>\n",
       "      <td>120</td>\n",
       "      <td>269</td>\n",
       "      <td>0</td>\n",
       "      <td>2</td>\n",
       "      <td>121</td>\n",
       "      <td>1</td>\n",
       "      <td>0.2</td>\n",
       "      <td>0</td>\n",
       "      <td>1</td>\n",
       "      <td>0</td>\n",
       "      <td>0</td>\n",
       "    </tr>\n",
       "    <tr>\n",
       "      <th>24</th>\n",
       "      <td>71</td>\n",
       "      <td>0</td>\n",
       "      <td>1</td>\n",
       "      <td>160</td>\n",
       "      <td>302</td>\n",
       "      <td>0</td>\n",
       "      <td>0</td>\n",
       "      <td>162</td>\n",
       "      <td>0</td>\n",
       "      <td>0.4</td>\n",
       "      <td>0</td>\n",
       "      <td>2</td>\n",
       "      <td>0</td>\n",
       "      <td>0</td>\n",
       "    </tr>\n",
       "    <tr>\n",
       "      <th>25</th>\n",
       "      <td>70</td>\n",
       "      <td>1</td>\n",
       "      <td>1</td>\n",
       "      <td>156</td>\n",
       "      <td>245</td>\n",
       "      <td>0</td>\n",
       "      <td>2</td>\n",
       "      <td>143</td>\n",
       "      <td>0</td>\n",
       "      <td>0.0</td>\n",
       "      <td>0</td>\n",
       "      <td>0</td>\n",
       "      <td>0</td>\n",
       "      <td>0</td>\n",
       "    </tr>\n",
       "    <tr>\n",
       "      <th>26</th>\n",
       "      <td>66</td>\n",
       "      <td>1</td>\n",
       "      <td>1</td>\n",
       "      <td>160</td>\n",
       "      <td>246</td>\n",
       "      <td>0</td>\n",
       "      <td>0</td>\n",
       "      <td>120</td>\n",
       "      <td>1</td>\n",
       "      <td>0.0</td>\n",
       "      <td>1</td>\n",
       "      <td>3</td>\n",
       "      <td>1</td>\n",
       "      <td>1</td>\n",
       "    </tr>\n",
       "    <tr>\n",
       "      <th>27</th>\n",
       "      <td>63</td>\n",
       "      <td>0</td>\n",
       "      <td>1</td>\n",
       "      <td>140</td>\n",
       "      <td>195</td>\n",
       "      <td>0</td>\n",
       "      <td>0</td>\n",
       "      <td>179</td>\n",
       "      <td>0</td>\n",
       "      <td>0.0</td>\n",
       "      <td>0</td>\n",
       "      <td>2</td>\n",
       "      <td>0</td>\n",
       "      <td>0</td>\n",
       "    </tr>\n",
       "    <tr>\n",
       "      <th>28</th>\n",
       "      <td>62</td>\n",
       "      <td>1</td>\n",
       "      <td>1</td>\n",
       "      <td>120</td>\n",
       "      <td>281</td>\n",
       "      <td>0</td>\n",
       "      <td>2</td>\n",
       "      <td>103</td>\n",
       "      <td>0</td>\n",
       "      <td>1.4</td>\n",
       "      <td>1</td>\n",
       "      <td>1</td>\n",
       "      <td>2</td>\n",
       "      <td>1</td>\n",
       "    </tr>\n",
       "    <tr>\n",
       "      <th>29</th>\n",
       "      <td>62</td>\n",
       "      <td>1</td>\n",
       "      <td>1</td>\n",
       "      <td>128</td>\n",
       "      <td>208</td>\n",
       "      <td>1</td>\n",
       "      <td>2</td>\n",
       "      <td>140</td>\n",
       "      <td>0</td>\n",
       "      <td>0.0</td>\n",
       "      <td>0</td>\n",
       "      <td>0</td>\n",
       "      <td>0</td>\n",
       "      <td>0</td>\n",
       "    </tr>\n",
       "    <tr>\n",
       "      <th>30</th>\n",
       "      <td>59</td>\n",
       "      <td>1</td>\n",
       "      <td>1</td>\n",
       "      <td>140</td>\n",
       "      <td>221</td>\n",
       "      <td>0</td>\n",
       "      <td>0</td>\n",
       "      <td>164</td>\n",
       "      <td>1</td>\n",
       "      <td>0.0</td>\n",
       "      <td>0</td>\n",
       "      <td>0</td>\n",
       "      <td>0</td>\n",
       "      <td>0</td>\n",
       "    </tr>\n",
       "    <tr>\n",
       "      <th>31</th>\n",
       "      <td>58</td>\n",
       "      <td>1</td>\n",
       "      <td>1</td>\n",
       "      <td>120</td>\n",
       "      <td>284</td>\n",
       "      <td>0</td>\n",
       "      <td>2</td>\n",
       "      <td>160</td>\n",
       "      <td>0</td>\n",
       "      <td>1.8</td>\n",
       "      <td>1</td>\n",
       "      <td>0</td>\n",
       "      <td>0</td>\n",
       "      <td>1</td>\n",
       "    </tr>\n",
       "    <tr>\n",
       "      <th>32</th>\n",
       "      <td>58</td>\n",
       "      <td>0</td>\n",
       "      <td>1</td>\n",
       "      <td>136</td>\n",
       "      <td>319</td>\n",
       "      <td>1</td>\n",
       "      <td>2</td>\n",
       "      <td>152</td>\n",
       "      <td>0</td>\n",
       "      <td>0.0</td>\n",
       "      <td>0</td>\n",
       "      <td>2</td>\n",
       "      <td>0</td>\n",
       "      <td>1</td>\n",
       "    </tr>\n",
       "    <tr>\n",
       "      <th>33</th>\n",
       "      <td>57</td>\n",
       "      <td>0</td>\n",
       "      <td>1</td>\n",
       "      <td>130</td>\n",
       "      <td>236</td>\n",
       "      <td>0</td>\n",
       "      <td>2</td>\n",
       "      <td>174</td>\n",
       "      <td>0</td>\n",
       "      <td>0.0</td>\n",
       "      <td>1</td>\n",
       "      <td>1</td>\n",
       "      <td>0</td>\n",
       "      <td>1</td>\n",
       "    </tr>\n",
       "    <tr>\n",
       "      <th>34</th>\n",
       "      <td>57</td>\n",
       "      <td>1</td>\n",
       "      <td>1</td>\n",
       "      <td>124</td>\n",
       "      <td>261</td>\n",
       "      <td>0</td>\n",
       "      <td>0</td>\n",
       "      <td>141</td>\n",
       "      <td>0</td>\n",
       "      <td>0.3</td>\n",
       "      <td>0</td>\n",
       "      <td>0</td>\n",
       "      <td>2</td>\n",
       "      <td>1</td>\n",
       "    </tr>\n",
       "  </tbody>\n",
       "</table>\n",
       "</div>"
      ],
      "text/plain": [
       "    age  sex  cp  trestbps  chol  fbs  restecg  thalach  exang  oldpeak  \\\n",
       "0    69    1   0       160   234    1        2      131      0      0.1   \n",
       "1    69    0   0       140   239    0        0      151      0      1.8   \n",
       "2    66    0   0       150   226    0        0      114      0      2.6   \n",
       "3    65    1   0       138   282    1        2      174      0      1.4   \n",
       "4    64    1   0       110   211    0        2      144      1      1.8   \n",
       "5    64    1   0       170   227    0        2      155      0      0.6   \n",
       "6    63    1   0       145   233    1        2      150      0      2.3   \n",
       "7    61    1   0       134   234    0        0      145      0      2.6   \n",
       "8    60    0   0       150   240    0        0      171      0      0.9   \n",
       "9    59    1   0       178   270    0        2      145      0      4.2   \n",
       "10   59    1   0       170   288    0        2      159      0      0.2   \n",
       "11   59    1   0       160   273    0        2      125      0      0.0   \n",
       "12   59    1   0       134   204    0        0      162      0      0.8   \n",
       "13   58    0   0       150   283    1        2      162      0      1.0   \n",
       "14   56    1   0       120   193    0        2      162      0      1.9   \n",
       "15   52    1   0       118   186    0        2      190      0      0.0   \n",
       "16   52    1   0       152   298    1        0      178      0      1.2   \n",
       "17   51    1   0       125   213    0        2      125      1      1.4   \n",
       "18   45    1   0       110   264    0        0      132      0      1.2   \n",
       "19   42    1   0       148   244    0        2      178      0      0.8   \n",
       "20   40    1   0       140   199    0        0      178      1      1.4   \n",
       "21   38    1   0       120   231    0        0      182      1      3.8   \n",
       "22   34    1   0       118   182    0        2      174      0      0.0   \n",
       "23   74    0   1       120   269    0        2      121      1      0.2   \n",
       "24   71    0   1       160   302    0        0      162      0      0.4   \n",
       "25   70    1   1       156   245    0        2      143      0      0.0   \n",
       "26   66    1   1       160   246    0        0      120      1      0.0   \n",
       "27   63    0   1       140   195    0        0      179      0      0.0   \n",
       "28   62    1   1       120   281    0        2      103      0      1.4   \n",
       "29   62    1   1       128   208    1        2      140      0      0.0   \n",
       "30   59    1   1       140   221    0        0      164      1      0.0   \n",
       "31   58    1   1       120   284    0        2      160      0      1.8   \n",
       "32   58    0   1       136   319    1        2      152      0      0.0   \n",
       "33   57    0   1       130   236    0        2      174      0      0.0   \n",
       "34   57    1   1       124   261    0        0      141      0      0.3   \n",
       "\n",
       "    slope  ca  thal  condition  \n",
       "0       1   1     0          0  \n",
       "1       0   2     0          0  \n",
       "2       2   0     0          0  \n",
       "3       1   1     0          1  \n",
       "4       1   0     0          0  \n",
       "5       1   0     2          0  \n",
       "6       2   0     1          0  \n",
       "7       1   2     0          1  \n",
       "8       0   0     0          0  \n",
       "9       2   0     2          0  \n",
       "10      1   0     2          1  \n",
       "11      0   0     0          1  \n",
       "12      0   2     0          1  \n",
       "13      0   0     0          0  \n",
       "14      1   0     2          0  \n",
       "15      1   0     1          0  \n",
       "16      1   0     2          0  \n",
       "17      0   1     0          0  \n",
       "18      1   0     2          1  \n",
       "19      0   2     0          0  \n",
       "20      0   0     2          0  \n",
       "21      1   0     2          1  \n",
       "22      0   0     0          0  \n",
       "23      0   1     0          0  \n",
       "24      0   2     0          0  \n",
       "25      0   0     0          0  \n",
       "26      1   3     1          1  \n",
       "27      0   2     0          0  \n",
       "28      1   1     2          1  \n",
       "29      0   0     0          0  \n",
       "30      0   0     0          0  \n",
       "31      1   0     0          1  \n",
       "32      0   2     0          1  \n",
       "33      1   1     0          1  \n",
       "34      0   0     2          1  "
      ]
     },
     "execution_count": 26,
     "metadata": {},
     "output_type": "execute_result"
    }
   ],
   "source": [
    "#lectura de los datos para el analisis exploratorio\n",
    "Datos.head(35)"
   ]
  },
  {
   "cell_type": "code",
   "execution_count": 28,
   "id": "e173e13e-b68a-4b0f-bd27-50cdeb242dab",
   "metadata": {},
   "outputs": [
    {
     "data": {
      "text/html": [
       "<div>\n",
       "<style scoped>\n",
       "    .dataframe tbody tr th:only-of-type {\n",
       "        vertical-align: middle;\n",
       "    }\n",
       "\n",
       "    .dataframe tbody tr th {\n",
       "        vertical-align: top;\n",
       "    }\n",
       "\n",
       "    .dataframe thead th {\n",
       "        text-align: right;\n",
       "    }\n",
       "</style>\n",
       "<table border=\"1\" class=\"dataframe\">\n",
       "  <thead>\n",
       "    <tr style=\"text-align: right;\">\n",
       "      <th></th>\n",
       "      <th>age</th>\n",
       "      <th>sex</th>\n",
       "      <th>cp</th>\n",
       "      <th>trestbps</th>\n",
       "      <th>chol</th>\n",
       "      <th>fbs</th>\n",
       "      <th>restecg</th>\n",
       "      <th>thalach</th>\n",
       "      <th>exang</th>\n",
       "      <th>oldpeak</th>\n",
       "      <th>slope</th>\n",
       "      <th>ca</th>\n",
       "      <th>thal</th>\n",
       "      <th>condition</th>\n",
       "    </tr>\n",
       "  </thead>\n",
       "  <tbody>\n",
       "    <tr>\n",
       "      <th>count</th>\n",
       "      <td>297.000000</td>\n",
       "      <td>297.000000</td>\n",
       "      <td>297.000000</td>\n",
       "      <td>297.000000</td>\n",
       "      <td>297.000000</td>\n",
       "      <td>297.000000</td>\n",
       "      <td>297.000000</td>\n",
       "      <td>297.000000</td>\n",
       "      <td>297.000000</td>\n",
       "      <td>297.000000</td>\n",
       "      <td>297.000000</td>\n",
       "      <td>297.000000</td>\n",
       "      <td>297.000000</td>\n",
       "      <td>297.000000</td>\n",
       "    </tr>\n",
       "    <tr>\n",
       "      <th>mean</th>\n",
       "      <td>54.542088</td>\n",
       "      <td>0.676768</td>\n",
       "      <td>2.158249</td>\n",
       "      <td>131.693603</td>\n",
       "      <td>247.350168</td>\n",
       "      <td>0.144781</td>\n",
       "      <td>0.996633</td>\n",
       "      <td>149.599327</td>\n",
       "      <td>0.326599</td>\n",
       "      <td>1.055556</td>\n",
       "      <td>0.602694</td>\n",
       "      <td>0.676768</td>\n",
       "      <td>0.835017</td>\n",
       "      <td>0.461279</td>\n",
       "    </tr>\n",
       "    <tr>\n",
       "      <th>std</th>\n",
       "      <td>9.049736</td>\n",
       "      <td>0.468500</td>\n",
       "      <td>0.964859</td>\n",
       "      <td>17.762806</td>\n",
       "      <td>51.997583</td>\n",
       "      <td>0.352474</td>\n",
       "      <td>0.994914</td>\n",
       "      <td>22.941562</td>\n",
       "      <td>0.469761</td>\n",
       "      <td>1.166123</td>\n",
       "      <td>0.618187</td>\n",
       "      <td>0.938965</td>\n",
       "      <td>0.956690</td>\n",
       "      <td>0.499340</td>\n",
       "    </tr>\n",
       "    <tr>\n",
       "      <th>min</th>\n",
       "      <td>29.000000</td>\n",
       "      <td>0.000000</td>\n",
       "      <td>0.000000</td>\n",
       "      <td>94.000000</td>\n",
       "      <td>126.000000</td>\n",
       "      <td>0.000000</td>\n",
       "      <td>0.000000</td>\n",
       "      <td>71.000000</td>\n",
       "      <td>0.000000</td>\n",
       "      <td>0.000000</td>\n",
       "      <td>0.000000</td>\n",
       "      <td>0.000000</td>\n",
       "      <td>0.000000</td>\n",
       "      <td>0.000000</td>\n",
       "    </tr>\n",
       "    <tr>\n",
       "      <th>25%</th>\n",
       "      <td>48.000000</td>\n",
       "      <td>0.000000</td>\n",
       "      <td>2.000000</td>\n",
       "      <td>120.000000</td>\n",
       "      <td>211.000000</td>\n",
       "      <td>0.000000</td>\n",
       "      <td>0.000000</td>\n",
       "      <td>133.000000</td>\n",
       "      <td>0.000000</td>\n",
       "      <td>0.000000</td>\n",
       "      <td>0.000000</td>\n",
       "      <td>0.000000</td>\n",
       "      <td>0.000000</td>\n",
       "      <td>0.000000</td>\n",
       "    </tr>\n",
       "    <tr>\n",
       "      <th>50%</th>\n",
       "      <td>56.000000</td>\n",
       "      <td>1.000000</td>\n",
       "      <td>2.000000</td>\n",
       "      <td>130.000000</td>\n",
       "      <td>243.000000</td>\n",
       "      <td>0.000000</td>\n",
       "      <td>1.000000</td>\n",
       "      <td>153.000000</td>\n",
       "      <td>0.000000</td>\n",
       "      <td>0.800000</td>\n",
       "      <td>1.000000</td>\n",
       "      <td>0.000000</td>\n",
       "      <td>0.000000</td>\n",
       "      <td>0.000000</td>\n",
       "    </tr>\n",
       "    <tr>\n",
       "      <th>75%</th>\n",
       "      <td>61.000000</td>\n",
       "      <td>1.000000</td>\n",
       "      <td>3.000000</td>\n",
       "      <td>140.000000</td>\n",
       "      <td>276.000000</td>\n",
       "      <td>0.000000</td>\n",
       "      <td>2.000000</td>\n",
       "      <td>166.000000</td>\n",
       "      <td>1.000000</td>\n",
       "      <td>1.600000</td>\n",
       "      <td>1.000000</td>\n",
       "      <td>1.000000</td>\n",
       "      <td>2.000000</td>\n",
       "      <td>1.000000</td>\n",
       "    </tr>\n",
       "    <tr>\n",
       "      <th>max</th>\n",
       "      <td>77.000000</td>\n",
       "      <td>1.000000</td>\n",
       "      <td>3.000000</td>\n",
       "      <td>200.000000</td>\n",
       "      <td>564.000000</td>\n",
       "      <td>1.000000</td>\n",
       "      <td>2.000000</td>\n",
       "      <td>202.000000</td>\n",
       "      <td>1.000000</td>\n",
       "      <td>6.200000</td>\n",
       "      <td>2.000000</td>\n",
       "      <td>3.000000</td>\n",
       "      <td>2.000000</td>\n",
       "      <td>1.000000</td>\n",
       "    </tr>\n",
       "  </tbody>\n",
       "</table>\n",
       "</div>"
      ],
      "text/plain": [
       "              age         sex          cp    trestbps        chol         fbs  \\\n",
       "count  297.000000  297.000000  297.000000  297.000000  297.000000  297.000000   \n",
       "mean    54.542088    0.676768    2.158249  131.693603  247.350168    0.144781   \n",
       "std      9.049736    0.468500    0.964859   17.762806   51.997583    0.352474   \n",
       "min     29.000000    0.000000    0.000000   94.000000  126.000000    0.000000   \n",
       "25%     48.000000    0.000000    2.000000  120.000000  211.000000    0.000000   \n",
       "50%     56.000000    1.000000    2.000000  130.000000  243.000000    0.000000   \n",
       "75%     61.000000    1.000000    3.000000  140.000000  276.000000    0.000000   \n",
       "max     77.000000    1.000000    3.000000  200.000000  564.000000    1.000000   \n",
       "\n",
       "          restecg     thalach       exang     oldpeak       slope          ca  \\\n",
       "count  297.000000  297.000000  297.000000  297.000000  297.000000  297.000000   \n",
       "mean     0.996633  149.599327    0.326599    1.055556    0.602694    0.676768   \n",
       "std      0.994914   22.941562    0.469761    1.166123    0.618187    0.938965   \n",
       "min      0.000000   71.000000    0.000000    0.000000    0.000000    0.000000   \n",
       "25%      0.000000  133.000000    0.000000    0.000000    0.000000    0.000000   \n",
       "50%      1.000000  153.000000    0.000000    0.800000    1.000000    0.000000   \n",
       "75%      2.000000  166.000000    1.000000    1.600000    1.000000    1.000000   \n",
       "max      2.000000  202.000000    1.000000    6.200000    2.000000    3.000000   \n",
       "\n",
       "             thal   condition  \n",
       "count  297.000000  297.000000  \n",
       "mean     0.835017    0.461279  \n",
       "std      0.956690    0.499340  \n",
       "min      0.000000    0.000000  \n",
       "25%      0.000000    0.000000  \n",
       "50%      0.000000    0.000000  \n",
       "75%      2.000000    1.000000  \n",
       "max      2.000000    1.000000  "
      ]
     },
     "execution_count": 28,
     "metadata": {},
     "output_type": "execute_result"
    }
   ],
   "source": [
    "#descripcion de los datos\n",
    "\n",
    "Datos.describe()"
   ]
  },
  {
   "cell_type": "code",
   "execution_count": 34,
   "id": "ea8dc8e6-54a5-4123-a653-0c5de35618ff",
   "metadata": {},
   "outputs": [
    {
     "data": {
      "text/plain": [
       "Text(0.5, 1.0, 'identificacion de datos atipicos y faltantes')"
      ]
     },
     "execution_count": 34,
     "metadata": {},
     "output_type": "execute_result"
    },
    {
     "data": {
      "image/png": "[encoded data removed]",
      "text/plain": [
       "<Figure size 600x300 with 1 Axes>"
      ]
     },
     "metadata": {},
     "output_type": "display_data"
    }
   ],
   "source": [
    "#identificacion de valores atipicos y faltantes\n",
    "\n",
    "plt.figure(figsize=(6,3))\n",
    "sns.boxplot(x=Datos['age'])\n",
    "plt.title('identificacion de datos atipicos y faltantes',fontsize=8) "
   ]
  },
  {
   "cell_type": "code",
   "execution_count": 36,
   "id": "34449b00-25cf-4654-af96-e5db0c425857",
   "metadata": {},
   "outputs": [
    {
     "data": {
      "text/plain": [
       "Text(0.5, 1.0, 'identificacion de datos atipicos y faltantes')"
      ]
     },
     "execution_count": 36,
     "metadata": {},
     "output_type": "execute_result"
    },
    {
     "data": {
      "image/png": "[encoded data removed]",
      "text/plain": [
       "<Figure size 600x300 with 1 Axes>"
      ]
     },
     "metadata": {},
     "output_type": "display_data"
    }
   ],
   "source": [
    "#identificacion de valores atipicos y faltantes\n",
    "\n",
    "plt.figure(figsize=(6,3))\n",
    "sns.boxplot(x=Datos['sex'])\n",
    "plt.title('identificacion de datos atipicos y faltantes',fontsize=8) "
   ]
  },
  {
   "cell_type": "code",
   "execution_count": 38,
   "id": "d8c2618b-2579-4306-8ac8-1fb1704d03d7",
   "metadata": {},
   "outputs": [
    {
     "data": {
      "text/plain": [
       "Text(0.5, 1.0, 'identificacion de datos atipicos y faltantes')"
      ]
     },
     "execution_count": 38,
     "metadata": {},
     "output_type": "execute_result"
    },
    {
     "data": {
      "image/png": "[encoded data removed]",
      "text/plain": [
       "<Figure size 600x300 with 1 Axes>"
      ]
     },
     "metadata": {},
     "output_type": "display_data"
    }
   ],
   "source": [
    "#identificacion de valores atipicos y faltantes\n",
    "\n",
    "plt.figure(figsize=(6,3))\n",
    "sns.boxplot(x=Datos['cp'])\n",
    "plt.title('identificacion de datos atipicos y faltantes',fontsize=8) "
   ]
  },
  {
   "cell_type": "code",
   "execution_count": 40,
   "id": "8d2e3f84-6e7c-408a-ab8c-d1817ca35824",
   "metadata": {},
   "outputs": [
    {
     "data": {
      "text/plain": [
       "Text(0.5, 1.0, 'identificacion de datos atipicos y faltantes')"
      ]
     },
     "execution_count": 40,
     "metadata": {},
     "output_type": "execute_result"
    },
    {
     "data": {
      "image/png": "[encoded data removed]",
      "text/plain": [
       "<Figure size 600x300 with 1 Axes>"
      ]
     },
     "metadata": {},
     "output_type": "display_data"
    }
   ],
   "source": [
    "#identificacion de valores atipicos y faltantes\n",
    "\n",
    "plt.figure(figsize=(6,3))\n",
    "sns.boxplot(x=Datos['trestbps'])\n",
    "plt.title('identificacion de datos atipicos y faltantes',fontsize=8) "
   ]
  },
  {
   "cell_type": "code",
   "execution_count": 42,
   "id": "c0e31fa3-4968-4068-a1bb-e1b89c0d380b",
   "metadata": {},
   "outputs": [
    {
     "data": {
      "text/plain": [
       "Text(0.5, 1.0, 'identificacion de datos atipicos y faltantes')"
      ]
     },
     "execution_count": 42,
     "metadata": {},
     "output_type": "execute_result"
    },
    {
     "data": {
      "image/png": "[encoded data removed]",
      "text/plain": [
       "<Figure size 600x300 with 1 Axes>"
      ]
     },
     "metadata": {},
     "output_type": "display_data"
    }
   ],
   "source": [
    "#identificacion de valores atipicos y faltantes\n",
    "\n",
    "plt.figure(figsize=(6,3))\n",
    "sns.boxplot(x=Datos['chol'])\n",
    "plt.title('identificacion de datos atipicos y faltantes',fontsize=8) "
   ]
  },
  {
   "cell_type": "code",
   "execution_count": 44,
   "id": "97af5767-0f28-4edf-844f-ca6890277410",
   "metadata": {},
   "outputs": [
    {
     "data": {
      "text/plain": [
       "Text(0.5, 1.0, 'identificacion de datos atipicos y faltantes')"
      ]
     },
     "execution_count": 44,
     "metadata": {},
     "output_type": "execute_result"
    },
    {
     "data": {
      "image/png": "[encoded data removed]",
      "text/plain": [
       "<Figure size 600x300 with 1 Axes>"
      ]
     },
     "metadata": {},
     "output_type": "display_data"
    }
   ],
   "source": [
    "#identificacion de valores atipicos y faltantes\n",
    "\n",
    "plt.figure(figsize=(6,3))\n",
    "sns.boxplot(x=Datos['fbs'])\n",
    "plt.title('identificacion de datos atipicos y faltantes',fontsize=8) "
   ]
  },
  {
   "cell_type": "code",
   "execution_count": 46,
   "id": "7129b02f-fcc4-410d-9a59-77566f2ef577",
   "metadata": {},
   "outputs": [
    {
     "data": {
      "text/plain": [
       "Text(0.5, 1.0, 'identificacion de datos atipicos y faltantes')"
      ]
     },
     "execution_count": 46,
     "metadata": {},
     "output_type": "execute_result"
    },
    {
     "data": {
      "image/png": "[encoded data removed]",
      "text/plain": [
       "<Figure size 600x300 with 1 Axes>"
      ]
     },
     "metadata": {},
     "output_type": "display_data"
    }
   ],
   "source": [
    "#identificacion de valores atipicos y faltantes\n",
    "\n",
    "plt.figure(figsize=(6,3))\n",
    "sns.boxplot(x=Datos['restecg'])\n",
    "plt.title('identificacion de datos atipicos y faltantes',fontsize=8) "
   ]
  },
  {
   "cell_type": "code",
   "execution_count": 48,
   "id": "45c81625-6f74-4be9-9916-4cc5bd3204d7",
   "metadata": {},
   "outputs": [
    {
     "data": {
      "text/plain": [
       "Text(0.5, 1.0, 'identificacion de datos atipicos y faltantes')"
      ]
     },
     "execution_count": 48,
     "metadata": {},
     "output_type": "execute_result"
    },
    {
     "data": {
      "image/png": "[encoded data removed]",
      "text/plain": [
       "<Figure size 600x300 with 1 Axes>"
      ]
     },
     "metadata": {},
     "output_type": "display_data"
    }
   ],
   "source": [
    "#identificacion de valores atipicos y faltantes\n",
    "\n",
    "plt.figure(figsize=(6,3))\n",
    "sns.boxplot(x=Datos['thalach'])\n",
    "plt.title('identificacion de datos atipicos y faltantes',fontsize=8) "
   ]
  },
  {
   "cell_type": "code",
   "execution_count": 50,
   "id": "45aefdc7-286b-419f-816b-b14c0cdaa56f",
   "metadata": {},
   "outputs": [
    {
     "data": {
      "text/plain": [
       "Text(0.5, 1.0, 'identificacion de datos atipicos y faltantes')"
      ]
     },
     "execution_count": 50,
     "metadata": {},
     "output_type": "execute_result"
    },
    {
     "data": {
      "image/png": "[encoded data removed]",
      "text/plain": [
       "<Figure size 600x300 with 1 Axes>"
      ]
     },
     "metadata": {},
     "output_type": "display_data"
    }
   ],
   "source": [
    "#identificacion de valores atipicos y faltantes\n",
    "\n",
    "plt.figure(figsize=(6,3))\n",
    "sns.boxplot(x=Datos['exang'])\n",
    "plt.title('identificacion de datos atipicos y faltantes',fontsize=8) "
   ]
  },
  {
   "cell_type": "code",
   "execution_count": 54,
   "id": "3f25deea-b5be-44db-be65-52947a022495",
   "metadata": {},
   "outputs": [
    {
     "data": {
      "text/plain": [
       "Text(0.5, 1.0, 'identificacion de datos atipicos y faltantes')"
      ]
     },
     "execution_count": 54,
     "metadata": {},
     "output_type": "execute_result"
    },
    {
     "data": {
      "image/png": "[encoded data removed]",
      "text/plain": [
       "<Figure size 600x300 with 1 Axes>"
      ]
     },
     "metadata": {},
     "output_type": "display_data"
    }
   ],
   "source": [
    "#identificacion de valores atipicos y faltantes\n",
    "\n",
    "plt.figure(figsize=(6,3))\n",
    "sns.boxplot(x=Datos['oldpeak'])\n",
    "plt.title('identificacion de datos atipicos y faltantes',fontsize=8) "
   ]
  },
  {
   "cell_type": "code",
   "execution_count": 56,
   "id": "9640c6d0-5217-4afd-a7e1-8751eff90195",
   "metadata": {},
   "outputs": [
    {
     "data": {
      "text/plain": [
       "Text(0.5, 1.0, 'identificacion de datos atipicos y faltantes')"
      ]
     },
     "execution_count": 56,
     "metadata": {},
     "output_type": "execute_result"
    },
    {
     "data": {
      "image/png": "[encoded data removed]",
      "text/plain": [
       "<Figure size 600x300 with 1 Axes>"
      ]
     },
     "metadata": {},
     "output_type": "display_data"
    }
   ],
   "source": [
    "#identificacion de valores atipicos y faltantes\n",
    "\n",
    "plt.figure(figsize=(6,3))\n",
    "sns.boxplot(x=Datos['slope'])\n",
    "plt.title('identificacion de datos atipicos y faltantes',fontsize=8) "
   ]
  },
  {
   "cell_type": "code",
   "execution_count": 58,
   "id": "583036e3-94a1-4145-9572-45290f5c4af0",
   "metadata": {},
   "outputs": [
    {
     "data": {
      "text/plain": [
       "Text(0.5, 1.0, 'identificacion de datos atipicos y faltantes')"
      ]
     },
     "execution_count": 58,
     "metadata": {},
     "output_type": "execute_result"
    },
    {
     "data": {
      "image/png": "[encoded data removed]",
      "text/plain": [
       "<Figure size 600x300 with 1 Axes>"
      ]
     },
     "metadata": {},
     "output_type": "display_data"
    }
   ],
   "source": [
    "#identificacion de valores atipicos y faltantes\n",
    "\n",
    "plt.figure(figsize=(6,3))\n",
    "sns.boxplot(x=Datos['ca'])\n",
    "plt.title('identificacion de datos atipicos y faltantes',fontsize=8) "
   ]
  },
  {
   "cell_type": "code",
   "execution_count": 60,
   "id": "b9245699-414a-434e-9477-8628505e237e",
   "metadata": {},
   "outputs": [
    {
     "data": {
      "text/plain": [
       "Text(0.5, 1.0, 'identificacion de datos atipicos y faltantes')"
      ]
     },
     "execution_count": 60,
     "metadata": {},
     "output_type": "execute_result"
    },
    {
     "data": {
      "image/png": "[encoded data removed]",
      "text/plain": [
       "<Figure size 600x300 with 1 Axes>"
      ]
     },
     "metadata": {},
     "output_type": "display_data"
    }
   ],
   "source": [
    "#identificacion de valores atipicos y faltantes\n",
    "\n",
    "plt.figure(figsize=(6,3))\n",
    "sns.boxplot(x=Datos['thal'])\n",
    "plt.title('identificacion de datos atipicos y faltantes',fontsize=8) "
   ]
  },
  {
   "cell_type": "code",
   "execution_count": 62,
   "id": "6e89f115-ab12-40a9-bc28-1db866ed8ecf",
   "metadata": {},
   "outputs": [
    {
     "data": {
      "text/plain": [
       "Text(0.5, 1.0, 'identificacion de datos atipicos y faltantes')"
      ]
     },
     "execution_count": 62,
     "metadata": {},
     "output_type": "execute_result"
    },
    {
     "data": {
      "image/png": "[encoded data removed]",
      "text/plain": [
       "<Figure size 600x300 with 1 Axes>"
      ]
     },
     "metadata": {},
     "output_type": "display_data"
    }
   ],
   "source": [
    "#identificacion de valores atipicos y faltantes\n",
    "\n",
    "plt.figure(figsize=(6,3))\n",
    "sns.boxplot(x=Datos['condition'])\n",
    "plt.title('identificacion de datos atipicos y faltantes',fontsize=8) "
   ]
  },
  {
   "cell_type": "code",
   "execution_count": 78,
   "id": "5406b792-042f-4da3-92bd-f65a6d746018",
   "metadata": {},
   "outputs": [
    {
     "name": "stdout",
     "output_type": "stream",
     "text": [
      "cantidad de registros con 190 en nivel de trestbps:  0\n",
      "cantidad de registros con 400 en nivel chol:  0\n",
      "cantidad de registros con 5 en nivel oldpeak:  0\n"
     ]
    }
   ],
   "source": [
    "#revision de datos faltantes\n",
    "\n",
    "print('cantidad de registros con 190 en nivel de trestbps: ',Datos['trestbps'].isin([190]).sum()) #trestpbs es presion arterial en reposo\n",
    "print('cantidad de registros con 400 en nivel chol: ',Datos['chol'].isin([400]).sum()) #chol es colesterol serico\n",
    "print('cantidad de registros con 5 en nivel oldpeak: ',Datos['oldpeak'].isin([5]).sum()) #oldpeak es depresion del segmento ST incluida por el ejercicio en relacion con el reposo"
   ]
  },
  {
   "cell_type": "code",
   "execution_count": 76,
   "id": "1d51f45d-6727-46ba-a028-8d7e0068d48d",
   "metadata": {},
   "outputs": [
    {
     "name": "stdout",
     "output_type": "stream",
     "text": [
      "<class 'pandas.core.frame.DataFrame'>\n",
      "RangeIndex: 297 entries, 0 to 296\n",
      "Data columns (total 14 columns):\n",
      " #   Column     Non-Null Count  Dtype  \n",
      "---  ------     --------------  -----  \n",
      " 0   age        297 non-null    int64  \n",
      " 1   sex        297 non-null    int64  \n",
      " 2   cp         297 non-null    int64  \n",
      " 3   trestbps   297 non-null    int64  \n",
      " 4   chol       297 non-null    int64  \n",
      " 5   fbs        297 non-null    int64  \n",
      " 6   restecg    297 non-null    int64  \n",
      " 7   thalach    297 non-null    int64  \n",
      " 8   exang      297 non-null    int64  \n",
      " 9   oldpeak    297 non-null    float64\n",
      " 10  slope      297 non-null    int64  \n",
      " 11  ca         297 non-null    int64  \n",
      " 12  thal       297 non-null    int64  \n",
      " 13  condition  297 non-null    int64  \n",
      "dtypes: float64(1), int64(13)\n",
      "memory usage: 32.6 KB\n"
     ]
    }
   ],
   "source": [
    "Datos.info()"
   ]
  },
  {
   "cell_type": "code",
   "execution_count": 84,
   "id": "290e6223-95c1-414f-a893-bdd02971eacf",
   "metadata": {},
   "outputs": [
    {
     "data": {
      "text/plain": [
       "condition\n",
       "0    160\n",
       "1    137\n",
       "Name: count, dtype: int64"
      ]
     },
     "execution_count": 84,
     "metadata": {},
     "output_type": "execute_result"
    }
   ],
   "source": [
    "#si la persona tiene una enfermedad cardiaca (1= si tiene, 0= no tiene)\n",
    "#total de personas con la enfermedad\n",
    "\n",
    "Datos['condition'].value_counts()"
   ]
  },
  {
   "cell_type": "code",
   "execution_count": 86,
   "id": "ff7804d0-bafc-41a2-8b5f-66b36f57eb41",
   "metadata": {},
   "outputs": [
    {
     "data": {
      "text/html": [
       "<div>\n",
       "<style scoped>\n",
       "    .dataframe tbody tr th:only-of-type {\n",
       "        vertical-align: middle;\n",
       "    }\n",
       "\n",
       "    .dataframe tbody tr th {\n",
       "        vertical-align: top;\n",
       "    }\n",
       "\n",
       "    .dataframe thead th {\n",
       "        text-align: right;\n",
       "    }\n",
       "</style>\n",
       "<table border=\"1\" class=\"dataframe\">\n",
       "  <thead>\n",
       "    <tr style=\"text-align: right;\">\n",
       "      <th></th>\n",
       "      <th>condition</th>\n",
       "    </tr>\n",
       "  </thead>\n",
       "  <tbody>\n",
       "    <tr>\n",
       "      <th>0</th>\n",
       "      <td>0</td>\n",
       "    </tr>\n",
       "    <tr>\n",
       "      <th>1</th>\n",
       "      <td>0</td>\n",
       "    </tr>\n",
       "    <tr>\n",
       "      <th>2</th>\n",
       "      <td>0</td>\n",
       "    </tr>\n",
       "    <tr>\n",
       "      <th>3</th>\n",
       "      <td>1</td>\n",
       "    </tr>\n",
       "    <tr>\n",
       "      <th>4</th>\n",
       "      <td>0</td>\n",
       "    </tr>\n",
       "    <tr>\n",
       "      <th>5</th>\n",
       "      <td>0</td>\n",
       "    </tr>\n",
       "    <tr>\n",
       "      <th>6</th>\n",
       "      <td>0</td>\n",
       "    </tr>\n",
       "    <tr>\n",
       "      <th>7</th>\n",
       "      <td>1</td>\n",
       "    </tr>\n",
       "    <tr>\n",
       "      <th>8</th>\n",
       "      <td>0</td>\n",
       "    </tr>\n",
       "    <tr>\n",
       "      <th>9</th>\n",
       "      <td>0</td>\n",
       "    </tr>\n",
       "    <tr>\n",
       "      <th>10</th>\n",
       "      <td>1</td>\n",
       "    </tr>\n",
       "    <tr>\n",
       "      <th>11</th>\n",
       "      <td>1</td>\n",
       "    </tr>\n",
       "    <tr>\n",
       "      <th>12</th>\n",
       "      <td>1</td>\n",
       "    </tr>\n",
       "    <tr>\n",
       "      <th>13</th>\n",
       "      <td>0</td>\n",
       "    </tr>\n",
       "    <tr>\n",
       "      <th>14</th>\n",
       "      <td>0</td>\n",
       "    </tr>\n",
       "    <tr>\n",
       "      <th>15</th>\n",
       "      <td>0</td>\n",
       "    </tr>\n",
       "    <tr>\n",
       "      <th>16</th>\n",
       "      <td>0</td>\n",
       "    </tr>\n",
       "    <tr>\n",
       "      <th>17</th>\n",
       "      <td>0</td>\n",
       "    </tr>\n",
       "    <tr>\n",
       "      <th>18</th>\n",
       "      <td>1</td>\n",
       "    </tr>\n",
       "    <tr>\n",
       "      <th>19</th>\n",
       "      <td>0</td>\n",
       "    </tr>\n",
       "    <tr>\n",
       "      <th>20</th>\n",
       "      <td>0</td>\n",
       "    </tr>\n",
       "    <tr>\n",
       "      <th>21</th>\n",
       "      <td>1</td>\n",
       "    </tr>\n",
       "    <tr>\n",
       "      <th>22</th>\n",
       "      <td>0</td>\n",
       "    </tr>\n",
       "    <tr>\n",
       "      <th>23</th>\n",
       "      <td>0</td>\n",
       "    </tr>\n",
       "    <tr>\n",
       "      <th>24</th>\n",
       "      <td>0</td>\n",
       "    </tr>\n",
       "    <tr>\n",
       "      <th>25</th>\n",
       "      <td>0</td>\n",
       "    </tr>\n",
       "    <tr>\n",
       "      <th>26</th>\n",
       "      <td>1</td>\n",
       "    </tr>\n",
       "    <tr>\n",
       "      <th>27</th>\n",
       "      <td>0</td>\n",
       "    </tr>\n",
       "    <tr>\n",
       "      <th>28</th>\n",
       "      <td>1</td>\n",
       "    </tr>\n",
       "    <tr>\n",
       "      <th>29</th>\n",
       "      <td>0</td>\n",
       "    </tr>\n",
       "    <tr>\n",
       "      <th>30</th>\n",
       "      <td>0</td>\n",
       "    </tr>\n",
       "    <tr>\n",
       "      <th>31</th>\n",
       "      <td>1</td>\n",
       "    </tr>\n",
       "    <tr>\n",
       "      <th>32</th>\n",
       "      <td>1</td>\n",
       "    </tr>\n",
       "    <tr>\n",
       "      <th>33</th>\n",
       "      <td>1</td>\n",
       "    </tr>\n",
       "    <tr>\n",
       "      <th>34</th>\n",
       "      <td>1</td>\n",
       "    </tr>\n",
       "  </tbody>\n",
       "</table>\n",
       "</div>"
      ],
      "text/plain": [
       "    condition\n",
       "0           0\n",
       "1           0\n",
       "2           0\n",
       "3           1\n",
       "4           0\n",
       "5           0\n",
       "6           0\n",
       "7           1\n",
       "8           0\n",
       "9           0\n",
       "10          1\n",
       "11          1\n",
       "12          1\n",
       "13          0\n",
       "14          0\n",
       "15          0\n",
       "16          0\n",
       "17          0\n",
       "18          1\n",
       "19          0\n",
       "20          0\n",
       "21          1\n",
       "22          0\n",
       "23          0\n",
       "24          0\n",
       "25          0\n",
       "26          1\n",
       "27          0\n",
       "28          1\n",
       "29          0\n",
       "30          0\n",
       "31          1\n",
       "32          1\n",
       "33          1\n",
       "34          1"
      ]
     },
     "execution_count": 86,
     "metadata": {},
     "output_type": "execute_result"
    }
   ],
   "source": [
    "Datos[['condition']].head(35)"
   ]
  },
  {
   "cell_type": "code",
   "execution_count": 101,
   "id": "5f7d3eda-a748-4c56-aa71-d201e6798eed",
   "metadata": {},
   "outputs": [
    {
     "name": "stdout",
     "output_type": "stream",
     "text": [
      "   age  sex  cp  trestbps  chol  fbs  restecg  thalach  exang  oldpeak  slope  \\\n",
      "0   69    1   0       160   234    1        2      131      0      0.1      1   \n",
      "1   69    0   0       140   239    0        0      151      0      1.8      0   \n",
      "2   66    0   0       150   226    0        0      114      0      2.6      2   \n",
      "3   65    1   0       138   282    1        2      174      0      1.4      1   \n",
      "4   64    1   0       110   211    0        2      144      1      1.8      1   \n",
      "\n",
      "   ca  thal  condition  \n",
      "0   1     0          0  \n",
      "1   2     0          0  \n",
      "2   0     0          0  \n",
      "3   1     0          1  \n",
      "4   0     0          0  \n",
      "Index(['age', 'sex', 'cp', 'trestbps', 'chol', 'fbs', 'restecg', 'thalach',\n",
      "       'exang', 'oldpeak', 'slope', 'ca', 'thal', 'condition'],\n",
      "      dtype='object')\n"
     ]
    }
   ],
   "source": [
    "# Verifica si 'Datos' está cargado correctamente\n",
    "print(Datos.head())  # Muestra las primeras filas del dataset\n",
    "print(Datos.columns)  # Asegúrate de que la columna 'condition' existe\n"
   ]
  },
  {
   "cell_type": "code",
   "execution_count": 133,
   "id": "ac42be7c-3e81-43f7-bce2-78e4d4dee81f",
   "metadata": {},
   "outputs": [],
   "source": [
    "#dividir el dataset en Train y Test\n",
    "#Train (80%) y test(20%)\n",
    "#se crean variables X y Y para almacenar la informacion del entrenamiento\n",
    "\n",
    "X= Datos.drop('condition',axis=1)\n",
    "Y= Datos['condition']\n",
    "\n",
    "X_train, X_test, Y_train, Y_test = train_test_split(X, Y, test_size=0.20, stratify=Y, random_state = 0)"
   ]
  },
  {
   "cell_type": "code",
   "execution_count": 135,
   "id": "4347df57-56a4-4910-a983-8b8d330d1986",
   "metadata": {},
   "outputs": [
    {
     "name": "stdout",
     "output_type": "stream",
     "text": [
      "     age  sex  cp  trestbps  chol  fbs  restecg  thalach  exang  oldpeak  \\\n",
      "261   51    1   3       140   261    0        2      186      1      0.0   \n",
      "121   51    0   2       140   308    0        2      142      0      1.5   \n",
      "12    59    1   0       134   204    0        0      162      0      0.8   \n",
      "141   44    1   2       120   226    0        0      169      0      0.0   \n",
      "29    62    1   1       128   208    1        2      140      0      0.0   \n",
      "..   ...  ...  ..       ...   ...  ...      ...      ...    ...      ...   \n",
      "174   64    1   3       120   246    0        2       96      1      2.2   \n",
      "294   35    1   3       120   198    0        0      130      1      1.6   \n",
      "135   46    0   2       142   177    0        2      160      1      1.4   \n",
      "252   53    1   3       123   282    0        0       95      1      2.0   \n",
      "246   54    1   3       110   239    0        0      126      1      2.8   \n",
      "\n",
      "     slope  ca  thal  \n",
      "261      0   0     0  \n",
      "121      0   1     0  \n",
      "12       0   2     0  \n",
      "141      0   0     0  \n",
      "29       0   0     0  \n",
      "..     ...  ..   ...  \n",
      "174      2   1     0  \n",
      "294      1   0     2  \n",
      "135      2   0     0  \n",
      "252      1   2     2  \n",
      "246      1   1     2  \n",
      "\n",
      "[237 rows x 13 columns]\n"
     ]
    }
   ],
   "source": [
    "print (X_train)"
   ]
  },
  {
   "cell_type": "code",
   "execution_count": 139,
   "id": "f8d60e42-698b-47b6-9cdc-4a7e59780a52",
   "metadata": {},
   "outputs": [
    {
     "name": "stdout",
     "output_type": "stream",
     "text": [
      "261    0\n",
      "121    0\n",
      "12     1\n",
      "141    0\n",
      "29     0\n",
      "      ..\n",
      "174    1\n",
      "294    1\n",
      "135    0\n",
      "252    1\n",
      "246    1\n",
      "Name: condition, Length: 237, dtype: int64\n"
     ]
    }
   ],
   "source": [
    "print (Y_train)"
   ]
  },
  {
   "cell_type": "code",
   "execution_count": 141,
   "id": "073cecad-f5a6-41d6-b7fc-e8b245529d3c",
   "metadata": {},
   "outputs": [],
   "source": [
    "#construir modelo de regresion logistica\n",
    "\n",
    "modelo_regresion = LogisticRegression(solver = \"liblinear\")\n",
    "modelo_regresion.fit (X_train, Y_train)\n",
    "\n",
    "#crear el modelo de prediccion\n",
    "Prediccion = modelo_regresion.predict(X_test)"
   ]
  },
  {
   "cell_type": "code",
   "execution_count": 143,
   "id": "8321ea9f-e835-43a2-940c-c3617284f89b",
   "metadata": {},
   "outputs": [
    {
     "name": "stdout",
     "output_type": "stream",
     "text": [
      "129    1\n",
      "7      1\n",
      "162    1\n",
      "183    1\n",
      "264    1\n",
      "263    1\n",
      "279    1\n",
      "35     1\n",
      "280    1\n",
      "224    1\n",
      "272    0\n",
      "177    0\n",
      "111    0\n",
      "97     0\n",
      "255    1\n",
      "51     0\n",
      "211    1\n",
      "117    0\n",
      "151    0\n",
      "249    0\n",
      "163    1\n",
      "94     0\n",
      "77     0\n",
      "47     0\n",
      "55     0\n",
      "149    0\n",
      "33     1\n",
      "202    1\n",
      "218    0\n",
      "39     0\n",
      "230    1\n",
      "116    0\n",
      "271    0\n",
      "42     0\n",
      "244    1\n",
      "96     1\n",
      "30     0\n",
      "108    0\n",
      "131    0\n",
      "201    1\n",
      "110    0\n",
      "270    1\n",
      "216    1\n",
      "285    0\n",
      "198    1\n",
      "76     1\n",
      "89     0\n",
      "63     0\n",
      "168    1\n",
      "14     0\n",
      "235    1\n",
      "105    0\n",
      "217    1\n",
      "185    1\n",
      "46     0\n",
      "160    1\n",
      "148    0\n",
      "137    0\n",
      "43     0\n",
      "276    0\n",
      "Name: condition, dtype: int64\n"
     ]
    }
   ],
   "source": [
    "print (Y_test)"
   ]
  },
  {
   "cell_type": "code",
   "execution_count": 145,
   "id": "5e5c0976-6657-42ea-8341-74723b27da14",
   "metadata": {},
   "outputs": [
    {
     "name": "stdout",
     "output_type": "stream",
     "text": [
      "[1 0 1 1 1 1 1 0 0 1 0 1 1 0 1 0 1 0 0 0 1 0 0 0 0 0 0 1 0 0 1 0 0 0 1 1 0\n",
      " 1 0 1 0 1 1 0 1 1 0 0 1 0 1 0 1 1 0 1 0 0 0 0]\n"
     ]
    }
   ],
   "source": [
    "print (Prediccion)"
   ]
  },
  {
   "cell_type": "code",
   "execution_count": 147,
   "id": "42af9af7-fc1e-43b0-9175-df9c39cfe520",
   "metadata": {},
   "outputs": [
    {
     "name": "stdout",
     "output_type": "stream",
     "text": [
      "              precision    recall  f1-score   support\n",
      "\n",
      "           0       0.88      0.91      0.89        32\n",
      "           1       0.89      0.86      0.87        28\n",
      "\n",
      "    accuracy                           0.88        60\n",
      "   macro avg       0.88      0.88      0.88        60\n",
      "weighted avg       0.88      0.88      0.88        60\n",
      "\n"
     ]
    }
   ],
   "source": [
    "#desempeño de modelo de regresion\n",
    "\n",
    "print(classification_report(Y_test,Prediccion))"
   ]
  },
  {
   "cell_type": "code",
   "execution_count": 149,
   "id": "622207c1-fe75-4f90-b926-aa7dfcc4aa06",
   "metadata": {},
   "outputs": [
    {
     "data": {
      "text/plain": [
       "<sklearn.metrics._plot.confusion_matrix.ConfusionMatrixDisplay at 0x1dbb8f3a720>"
      ]
     },
     "execution_count": 149,
     "metadata": {},
     "output_type": "execute_result"
    },
    {
     "data": {
      "image/png": "[encoded data removed]",
      "text/plain": [
       "<Figure size 640x480 with 2 Axes>"
      ]
     },
     "metadata": {},
     "output_type": "display_data"
    }
   ],
   "source": [
    "#matriz de confusion del modelo\n",
    "\n",
    "cm=confusion_matrix(Y_test,Prediccion)\n",
    "disp=metrics.ConfusionMatrixDisplay(confusion_matrix=cm)\n",
    "disp.plot()"
   ]
  },
  {
   "cell_type": "code",
   "execution_count": 151,
   "id": "8181dfe9-ffa3-4cf1-b339-0da4869d7b0b",
   "metadata": {},
   "outputs": [
    {
     "data": {
      "image/png": "[encoded data removed]",
      "text/plain": [
       "<Figure size 640x480 with 1 Axes>"
      ]
     },
     "metadata": {},
     "output_type": "display_data"
    }
   ],
   "source": [
    "#curva de precision del modelo\n",
    "\n",
    "from sklearn.metrics import RocCurveDisplay\n",
    "RocCurveDisplay.from_predictions(Y_test, Prediccion)\n",
    "plt.show()"
   ]
  },
  {
   "cell_type": "markdown",
   "id": "ce825b92-ba7d-472a-a320-75296335d426",
   "metadata": {},
   "source": [
    "# Desempeño del  modelo\n",
    "\n",
    "-Precision: la precision para la clase 'condition' es de 0.89, lo que significa que el 89% de los predichos con la enfermedad cardiaca por el modelo si tenian la enfermedad cardiaca\n",
    "\n",
    "-Recall: recall para la clase 'condition' es de 0.86, lo que significa que el modelo apredijo el 86% de los pacientes con la enfermedad cardiaca\n",
    "\n",
    "-F1 Score: la puntuacion de F1 Score es de 0.87, lo que significa que hay un equilibrio entre precision y recuperacion \n",
    "\n",
    "# matriz de confusion\n",
    "\n",
    "verdaderos negativos:el modelo predijo correctamente los pacientes que no tenian la enfermedad cardiaca como 29\n",
    "verdaderos positivos:el modelo predijo correctamente los pacientes que si tenian la enfermedad cardiaca como 24\n",
    "falsos negativos:el modelo predijo incorrectamente los pacientes que no tenian la enfermedad cardiaca como 3\n",
    "falsos positivos:el modelo predijo incorrectamente los pacientes que si tenian la enfermadas cardiaca como 4\n",
    "\n",
    "# curva de precision\n",
    "\n",
    "el AUC es de 0.88, lo que significa que el 88% de las predicciones del modelo son correctas"
   ]
  }
 ],
 "metadata": {
  "kernelspec": {
   "display_name": "Python 3 (ipykernel)",
   "language": "python",
   "name": "python3"
  },
  "language_info": {
   "codemirror_mode": {
    "name": "ipython",
    "version": 3
   },
   "file_extension": ".py",
   "mimetype": "text/x-python",
   "name": "python",
   "nbconvert_exporter": "python",
   "pygments_lexer": "ipython3",
   "version": "3.12.4"
  }
 },
 "nbformat": 4,
 "nbformat_minor": 5
}
